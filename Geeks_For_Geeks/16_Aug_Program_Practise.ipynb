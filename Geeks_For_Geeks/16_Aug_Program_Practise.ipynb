{
 "cells": [
  {
   "cell_type": "code",
   "execution_count": 5,
   "source": [
    "def rev_sentence(sentence): \r\n",
    "    words = sentence.split(' ') \r\n",
    "    reverse_sentence = ' '.join(reversed(words)) \r\n",
    "    return reverse_sentence \r\n",
    "\r\n",
    "if __name__ == \"__main__\": \r\n",
    "    input = 'geeks quiz practice code'\r\n",
    "    print (rev_sentence(input))"
   ],
   "outputs": [
    {
     "output_type": "stream",
     "name": "stdout",
     "text": [
      "code practice quiz geeks\n"
     ]
    }
   ],
   "metadata": {}
  },
  {
   "cell_type": "code",
   "execution_count": 10,
   "source": [
    "# Python3 code to demonstrate working of\r\n",
    "# using list comprehension\r\n",
    "# initialize list\r\n",
    "matrix = [[4, 5, 6], [8, 1, 10], [7, 12, 5]]\r\n",
    "# initialize K\r\n",
    "K = 2\r\n",
    "res = [sub[K] for sub in matrix]\r\n",
    "print(\"The Kth column of matrix is : \" + str(res))"
   ],
   "outputs": [
    {
     "output_type": "stream",
     "name": "stdout",
     "text": [
      "The Kth column of matrix is : [6, 10, 5]\n"
     ]
    }
   ],
   "metadata": {}
  },
  {
   "cell_type": "code",
   "execution_count": 16,
   "source": [
    "def array_split(list_nos, n, k): \r\n",
    "    for i in range(0, k): \r\n",
    "        x = list_nos[0]\r\n",
    "        for j in range(0, n-1):\r\n",
    "            list_nos[j] = list_nos[j + 1]\r\n",
    "          \r\n",
    "        arr[n-1] = x\r\n",
    "          \r\n",
    "arr = [12, 10, 5, 6, 52, 36]\r\n",
    "n = len(arr)\r\n",
    "position = 2\r\n",
    "array_split(arr, n, position)\r\n",
    "  \r\n",
    "for i in range(0, n): \r\n",
    "    print(arr[i], end = ' ')"
   ],
   "outputs": [
    {
     "output_type": "stream",
     "name": "stdout",
     "text": [
      "5 6 52 36 12 10 "
     ]
    }
   ],
   "metadata": {}
  }
 ],
 "metadata": {
  "orig_nbformat": 4,
  "language_info": {
   "name": "python",
   "version": "3.8.0",
   "mimetype": "text/x-python",
   "codemirror_mode": {
    "name": "ipython",
    "version": 3
   },
   "pygments_lexer": "ipython3",
   "nbconvert_exporter": "python",
   "file_extension": ".py"
  },
  "kernelspec": {
   "name": "python3",
   "display_name": "Python 3.8.0 64-bit ('tf2.0': conda)"
  },
  "interpreter": {
   "hash": "b7dea5568a8011761eb94fc783bf0961f4238ecb1b6b3a02e938e0ea93593243"
  }
 },
 "nbformat": 4,
 "nbformat_minor": 2
}