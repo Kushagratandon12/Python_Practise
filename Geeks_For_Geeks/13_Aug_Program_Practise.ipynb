{
 "cells": [
  {
   "cell_type": "code",
   "execution_count": 1,
   "source": [
    "def n_max_element(list, N):\r\n",
    "    list.sort()\r\n",
    "    return list[-N:]\r\n",
    "\r\n",
    "\r\n",
    "# l = [1000, 298, 3579, 100, 200, -45, 900]\r\n",
    "l = [81, 52, 45, 10, 3, 2, 96]\r\n",
    "n = 3\r\n",
    "\r\n",
    "result = n_max_element(l, n)\r\n",
    "result.sort(reverse=True)\r\n",
    "print(result)"
   ],
   "outputs": [
    {
     "output_type": "stream",
     "name": "stdout",
     "text": [
      "[96, 81, 52]\n"
     ]
    }
   ],
   "metadata": {}
  },
  {
   "cell_type": "code",
   "execution_count": 5,
   "source": [
    "def check_rep(x):\r\n",
    "    _size = len(x)\r\n",
    "    repeated = []\r\n",
    "    for i in range(_size):\r\n",
    "        k = i + 1\r\n",
    "        for j in range(k, _size):\r\n",
    "            if x[i] == x[j] and x[i] not in repeated:\r\n",
    "                repeated.append(x[i])\r\n",
    "    return repeated\r\n",
    " \r\n",
    "# Driver Code\r\n",
    "list1 = [10, 20, 30, 20, 20, 30, 40,\r\n",
    "         50, -20, 60, 60, -20, -20]\r\n",
    "print (check_rep(list1))\r\n",
    "\r\n",
    "\r\n",
    "##New Method\r\n",
    "from collections import Counter\r\n",
    " \r\n",
    "list_input = [10, 20, 30, 20, 20, 30, 40,\r\n",
    "         50, -20, 60, 60, -20, -20]\r\n",
    "counter_occurances = Counter(list_input)\r\n",
    "print(counter_occurances)\r\n",
    " \r\n",
    "new_list = list([item for item in counter_occurances if counter_occurances[item]>1])\r\n",
    "print(new_list)"
   ],
   "outputs": [
    {
     "output_type": "stream",
     "name": "stdout",
     "text": [
      "[20, 30, -20, 60]\n",
      "Counter({20: 3, -20: 3, 30: 2, 60: 2, 10: 1, 40: 1, 50: 1})\n",
      "[20, 30, -20, 60]\n"
     ]
    }
   ],
   "metadata": {}
  },
  {
   "cell_type": "code",
   "execution_count": 13,
   "source": [
    "class Person:\r\n",
    "  def __init__(self, name, age):\r\n",
    "    self.name = name\r\n",
    "    self.age = age\r\n",
    "\r\n",
    "obj = Person(\"Kushagra_Tandon\", 22)\r\n",
    "\r\n",
    "print('Name {} Age {}'.format(obj.name,obj.age))"
   ],
   "outputs": [
    {
     "output_type": "stream",
     "name": "stdout",
     "text": [
      "Name Kushagra_Tandon Age 22\n"
     ]
    }
   ],
   "metadata": {}
  },
  {
   "cell_type": "code",
   "execution_count": 14,
   "source": [
    "f = open(\"Kushagra.txt\", \"a\")\r\n",
    "f.write(\"Reading_Writing\")\r\n",
    "f.close()\r\n",
    "\r\n",
    "#open and read the file after the appending:\r\n",
    "f = open(\"Kushagra.txt\", \"r\")\r\n",
    "print(f.read())"
   ],
   "outputs": [
    {
     "output_type": "stream",
     "name": "stdout",
     "text": [
      "Reading_Writing\n"
     ]
    }
   ],
   "metadata": {}
  }
 ],
 "metadata": {
  "orig_nbformat": 4,
  "language_info": {
   "name": "python",
   "version": "3.8.0",
   "mimetype": "text/x-python",
   "codemirror_mode": {
    "name": "ipython",
    "version": 3
   },
   "pygments_lexer": "ipython3",
   "nbconvert_exporter": "python",
   "file_extension": ".py"
  },
  "kernelspec": {
   "name": "python3",
   "display_name": "Python 3.8.0 64-bit ('tf2.0': conda)"
  },
  "interpreter": {
   "hash": "b7dea5568a8011761eb94fc783bf0961f4238ecb1b6b3a02e938e0ea93593243"
  }
 },
 "nbformat": 4,
 "nbformat_minor": 2
}